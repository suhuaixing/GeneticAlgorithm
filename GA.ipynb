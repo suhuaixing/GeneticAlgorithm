{
 "cells": [
  {
   "cell_type": "raw",
   "metadata": {
    "slideshow": {
     "slide_type": "slide"
    }
   },
   "source": [
    "<image>\n",
    "<section data-background=\"img/cover.jpg\" data-state=\"img-transparent no-title-footer\">\n",
    "<div class=\"intro-body\">\n",
    "<div class=\"intro_h1\"><h1>Genetic Algorithm</h1></div>\n",
    "<h3>For Fault Detection</h3>\n",
    "<p><strong><span class=\"a\">Speaker 1</span></strong> <span class=\"b\"></span> <span>Shujiang Li</span></p>\n",
    "<p><strong><span class=\"a\">Speaker 2</span></strong> <span class=\"b\"></span> <span>Huaixing Su</span></p>\n",
    "<p>&nbsp;</p>\n",
    "<p>&nbsp;</p>\n",
    "</div>\n",
    "</section>\n",
    "</image>"
   ]
  },
  {
   "cell_type": "raw",
   "metadata": {
    "raw_mimetype": "text/html",
    "slideshow": {
     "slide_type": "slide"
    }
   },
   "source": [
    "<image>\n",
    "</section>\n",
    "<section data-background=\"#81D8D4\" data-state=\"no-title-footer\">\n",
    "  <div class=\"divider_h1\">\n",
    "    <h1>Part 1: Methodology</h1>\n",
    "  </div>\n",
    "</section>\n",
    "</image>"
   ]
  },
  {
   "attachments": {},
   "cell_type": "markdown",
   "metadata": {
    "slideshow": {
     "slide_type": "slide"
    }
   },
   "source": [
    "# Darwin Finches\n",
    "\n",
    "When visiting the **Galapagos**\n",
    "\n",
    "**Darwin** noticed the presence of some birds that appeared to have evolved from a single ancestral flock. "
   ]
  },
  {
   "cell_type": "markdown",
   "metadata": {
    "slideshow": {
     "slide_type": "-"
    }
   },
   "source": [
    "![Color](img/darwin_finches.png)"
   ]
  },
  {
   "cell_type": "markdown",
   "metadata": {
    "slideshow": {
     "slide_type": "subslide"
    }
   },
   "source": [
    "# Genetic Algorithm\n",
    "\n",
    "is a metaheuristic inspired by the process of **natural selection** \n",
    "\n",
    "based on the concept of **the Darwin’s theory of evolution**\n",
    "\n",
    "used to generate high-quality solutions to **optimization** and **search problems**\n",
    "\n",
    "![Color](img/books_genetic_algorithms_in_search_an_introduction_to_ga.png)"
   ]
  },
  {
   "attachments": {},
   "cell_type": "markdown",
   "metadata": {
    "collapsed": true,
    "slideshow": {
     "slide_type": "subslide"
    }
   },
   "source": [
    "# Initialization\n",
    "\n",
    "The **individuals** are the results of the **crossover** between two parents. \n",
    "\n",
    "The crossover is a form of **recombination** of the parents’ genetic material. \n",
    "\n",
    "Sometimes happen that a random **mutation**\n",
    "\n",
    "![Color](img/reinforcement_learning_actor_only_evolutionary_algorithms_intuition_drawing.png)"
   ]
  },
  {
   "attachments": {},
   "cell_type": "markdown",
   "metadata": {
    "slideshow": {
     "slide_type": "subslide"
    }
   },
   "source": [
    "# Encoding\n",
    "\n",
    "The **genotype** can contain\n",
    "\n",
    "![Color](img/reinforcement_learning_actor_only_genetic_algorithms_genotype_representation.png)"
   ]
  },
  {
   "attachments": {},
   "cell_type": "markdown",
   "metadata": {
    "slideshow": {
     "slide_type": "subslide"
    }
   },
   "source": [
    "# Selection\n",
    "\n",
    "a way to reduce the number of possible solutions choosing the one that leads to the best results\n",
    "\n",
    "![Color](img/reinforcement_learning_actor_only_genetic_algorithms_operator_selection.png)"
   ]
  },
  {
   "attachments": {},
   "cell_type": "markdown",
   "metadata": {
    "collapsed": true,
    "slideshow": {
     "slide_type": "subslide"
    }
   },
   "source": [
    "# Process Review\n",
    "\n",
    "- **Fitness function**: it evaluates the performance of each candidate\n",
    "- **Selection**: it chooses the best individuals based on their fitness score\n",
    "- **Recombination**: it replicates and recombines the individuals\n",
    "\n",
    "![Color](img/reinforcement_learning_actor_only_evolutionary_algorithms_intuition_operators_drawing.png)"
   ]
  },
  {
   "attachments": {},
   "cell_type": "markdown",
   "metadata": {
    "collapsed": true,
    "slideshow": {
     "slide_type": "subslide"
    }
   },
   "source": [
    "# Flow Chart\n",
    "\n",
    "![Color](img/Flow-chart-for-typical-genetic-algorithm-technique.png)"
   ]
  },
  {
   "cell_type": "raw",
   "metadata": {
    "raw_mimetype": "text/html",
    "slideshow": {
     "slide_type": "slide"
    }
   },
   "source": [
    "<image>\n",
    "</section>\n",
    "<section data-background=\"#9898FF\" data-state=\"no-title-footer\">\n",
    "  <div class=\"divider_h1\">\n",
    "    <h1>Part 2: Programming</h1>\n",
    "  </div>\n",
    "</section>\n",
    "</image>"
   ]
  },
  {
   "cell_type": "markdown",
   "metadata": {
    "slideshow": {
     "slide_type": "slide"
    }
   },
   "source": [
    "# Genotype\n",
    "\n",
    "\n",
    "![Color](img/reinforcement_learning_actor_only_genetic_algorithms_cleaning_robot_action_index.png)"
   ]
  },
  {
   "cell_type": "markdown",
   "metadata": {
    "slideshow": {
     "slide_type": "subslide"
    }
   },
   "source": [
    "# GA vs Brute Force Algorithm\n",
    "\n",
    "Type \"**I love BUAA forever**\"\n",
    "\n",
    "![Color](img/monkey.png)"
   ]
  },
  {
   "cell_type": "markdown",
   "metadata": {
    "slideshow": {
     "slide_type": "slide"
    }
   },
   "source": [
    "# Java Simulation\n",
    "\n",
    "## Next"
   ]
  },
  {
   "cell_type": "markdown",
   "metadata": {
    "slideshow": {
     "slide_type": "subslide"
    }
   },
   "source": [
    "# Local Optimum\n",
    "\n",
    "![Color](img/local_optimum.png)"
   ]
  },
  {
   "cell_type": "markdown",
   "metadata": {
    "slideshow": {
     "slide_type": "subslide"
    }
   },
   "source": [
    "# Fittest\n",
    "![Color](img/fitness.png)"
   ]
  },
  {
   "cell_type": "raw",
   "metadata": {
    "slideshow": {
     "slide_type": "slide"
    }
   },
   "source": [
    "<image>\n",
    "</section>\n",
    "<section data-background=\"#0093C9\" data-state=\"no-title-footer\">\n",
    "  <div class=\"divider_h1\">\n",
    "    <h1>Thanks for Watching</h1>\n",
    "    <p></p>\n",
    "    <p><strong><span class=\"a\">Speaker 1</span></strong> <span class=\"b\"></span> <span>Shujiang Li</span></p>\n",
    "    <p><strong><span class=\"a\">Speaker 2</span></strong> <span class=\"b\"></span> <span>Huaixing Su</span></p>\n",
    "  </div>\n",
    "</section>\n",
    "</image>"
   ]
  }
 ],
 "metadata": {
  "celltoolbar": "Slideshow",
  "kernelspec": {
   "display_name": "Python 3",
   "language": "python",
   "name": "python3"
  },
  "language_info": {
   "codemirror_mode": {
    "name": "ipython",
    "version": 3
   },
   "file_extension": ".py",
   "mimetype": "text/x-python",
   "name": "python",
   "nbconvert_exporter": "python",
   "pygments_lexer": "ipython3",
   "version": "3.7.0"
  }
 },
 "nbformat": 4,
 "nbformat_minor": 1
}
